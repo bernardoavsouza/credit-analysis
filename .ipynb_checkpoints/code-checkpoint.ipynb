{
 "cells": [
  {
   "cell_type": "markdown",
   "id": "6d373bdf",
   "metadata": {},
   "source": [
    "# Credit Analysis Algorithm\n",
    "\n",
    "This algorithm uses a german credit dataset to classify costumers as good (1) or bad (0) costumers."
   ]
  },
  {
   "cell_type": "code",
   "execution_count": 1,
   "id": "ef7e8cf7",
   "metadata": {},
   "outputs": [],
   "source": [
    "import pandas as pd\n",
    "import numpy as np\n",
    "import seaborn as sns\n",
    "from matplotlib import pyplot as plt\n",
    "import tensorflow as tf\n",
    "\n",
    "from sklearn.model_selection import train_test_split\n",
    "from sklearn.preprocessing import OneHotEncoder\n",
    "from sklearn.preprocessing import OrdinalEncoder\n",
    "from sklearn.preprocessing import StandardScaler\n",
    "from sklearn.decomposition import PCA\n",
    "from imblearn.over_sampling import SMOTE\n",
    "\n",
    "from tensorflow import keras\n",
    "from tensorflow.keras import layers\n",
    "\n",
    "from sklearn.metrics import accuracy_score\n",
    "from sklearn.metrics import precision_recall_fscore_support as prfs\n",
    "from sklearn.metrics import confusion_matrix as conf"
   ]
  },
  {
   "cell_type": "code",
   "execution_count": 2,
   "id": "8ece04ea",
   "metadata": {},
   "outputs": [],
   "source": [
    "# Defining tensorflow's seed\n",
    "tf.random.set_seed(0)"
   ]
  },
  {
   "cell_type": "markdown",
   "id": "0e102959",
   "metadata": {},
   "source": [
    "# Raw Data"
   ]
  },
  {
   "cell_type": "code",
   "execution_count": 3,
   "id": "b0a55279",
   "metadata": {
    "scrolled": true
   },
   "outputs": [
    {
     "data": {
      "text/html": [
       "<div>\n",
       "<style scoped>\n",
       "    .dataframe tbody tr th:only-of-type {\n",
       "        vertical-align: middle;\n",
       "    }\n",
       "\n",
       "    .dataframe tbody tr th {\n",
       "        vertical-align: top;\n",
       "    }\n",
       "\n",
       "    .dataframe thead th {\n",
       "        text-align: right;\n",
       "    }\n",
       "</style>\n",
       "<table border=\"1\" class=\"dataframe\">\n",
       "  <thead>\n",
       "    <tr style=\"text-align: right;\">\n",
       "      <th></th>\n",
       "      <th>1</th>\n",
       "      <th>2</th>\n",
       "      <th>3</th>\n",
       "      <th>4</th>\n",
       "      <th>5</th>\n",
       "      <th>6</th>\n",
       "      <th>7</th>\n",
       "      <th>8</th>\n",
       "      <th>9</th>\n",
       "      <th>10</th>\n",
       "      <th>...</th>\n",
       "      <th>12</th>\n",
       "      <th>13</th>\n",
       "      <th>14</th>\n",
       "      <th>15</th>\n",
       "      <th>16</th>\n",
       "      <th>17</th>\n",
       "      <th>18</th>\n",
       "      <th>19</th>\n",
       "      <th>20</th>\n",
       "      <th>Label</th>\n",
       "    </tr>\n",
       "  </thead>\n",
       "  <tbody>\n",
       "    <tr>\n",
       "      <th>0</th>\n",
       "      <td>A11</td>\n",
       "      <td>6</td>\n",
       "      <td>A34</td>\n",
       "      <td>A43</td>\n",
       "      <td>1169</td>\n",
       "      <td>A65</td>\n",
       "      <td>A75</td>\n",
       "      <td>4</td>\n",
       "      <td>A93</td>\n",
       "      <td>A101</td>\n",
       "      <td>...</td>\n",
       "      <td>A121</td>\n",
       "      <td>67</td>\n",
       "      <td>A143</td>\n",
       "      <td>A152</td>\n",
       "      <td>2</td>\n",
       "      <td>A173</td>\n",
       "      <td>1</td>\n",
       "      <td>A192</td>\n",
       "      <td>A201</td>\n",
       "      <td>1</td>\n",
       "    </tr>\n",
       "    <tr>\n",
       "      <th>1</th>\n",
       "      <td>A12</td>\n",
       "      <td>48</td>\n",
       "      <td>A32</td>\n",
       "      <td>A43</td>\n",
       "      <td>5951</td>\n",
       "      <td>A61</td>\n",
       "      <td>A73</td>\n",
       "      <td>2</td>\n",
       "      <td>A92</td>\n",
       "      <td>A101</td>\n",
       "      <td>...</td>\n",
       "      <td>A121</td>\n",
       "      <td>22</td>\n",
       "      <td>A143</td>\n",
       "      <td>A152</td>\n",
       "      <td>1</td>\n",
       "      <td>A173</td>\n",
       "      <td>1</td>\n",
       "      <td>A191</td>\n",
       "      <td>A201</td>\n",
       "      <td>2</td>\n",
       "    </tr>\n",
       "    <tr>\n",
       "      <th>2</th>\n",
       "      <td>A14</td>\n",
       "      <td>12</td>\n",
       "      <td>A34</td>\n",
       "      <td>A46</td>\n",
       "      <td>2096</td>\n",
       "      <td>A61</td>\n",
       "      <td>A74</td>\n",
       "      <td>2</td>\n",
       "      <td>A93</td>\n",
       "      <td>A101</td>\n",
       "      <td>...</td>\n",
       "      <td>A121</td>\n",
       "      <td>49</td>\n",
       "      <td>A143</td>\n",
       "      <td>A152</td>\n",
       "      <td>1</td>\n",
       "      <td>A172</td>\n",
       "      <td>2</td>\n",
       "      <td>A191</td>\n",
       "      <td>A201</td>\n",
       "      <td>1</td>\n",
       "    </tr>\n",
       "    <tr>\n",
       "      <th>3</th>\n",
       "      <td>A11</td>\n",
       "      <td>42</td>\n",
       "      <td>A32</td>\n",
       "      <td>A42</td>\n",
       "      <td>7882</td>\n",
       "      <td>A61</td>\n",
       "      <td>A74</td>\n",
       "      <td>2</td>\n",
       "      <td>A93</td>\n",
       "      <td>A103</td>\n",
       "      <td>...</td>\n",
       "      <td>A122</td>\n",
       "      <td>45</td>\n",
       "      <td>A143</td>\n",
       "      <td>A153</td>\n",
       "      <td>1</td>\n",
       "      <td>A173</td>\n",
       "      <td>2</td>\n",
       "      <td>A191</td>\n",
       "      <td>A201</td>\n",
       "      <td>1</td>\n",
       "    </tr>\n",
       "    <tr>\n",
       "      <th>4</th>\n",
       "      <td>A11</td>\n",
       "      <td>24</td>\n",
       "      <td>A33</td>\n",
       "      <td>A40</td>\n",
       "      <td>4870</td>\n",
       "      <td>A61</td>\n",
       "      <td>A73</td>\n",
       "      <td>3</td>\n",
       "      <td>A93</td>\n",
       "      <td>A101</td>\n",
       "      <td>...</td>\n",
       "      <td>A124</td>\n",
       "      <td>53</td>\n",
       "      <td>A143</td>\n",
       "      <td>A153</td>\n",
       "      <td>2</td>\n",
       "      <td>A173</td>\n",
       "      <td>2</td>\n",
       "      <td>A191</td>\n",
       "      <td>A201</td>\n",
       "      <td>2</td>\n",
       "    </tr>\n",
       "  </tbody>\n",
       "</table>\n",
       "<p>5 rows × 21 columns</p>\n",
       "</div>"
      ],
      "text/plain": [
       "     1   2    3    4     5    6    7  8    9    10  ...    12  13    14    15  \\\n",
       "0  A11   6  A34  A43  1169  A65  A75  4  A93  A101  ...  A121  67  A143  A152   \n",
       "1  A12  48  A32  A43  5951  A61  A73  2  A92  A101  ...  A121  22  A143  A152   \n",
       "2  A14  12  A34  A46  2096  A61  A74  2  A93  A101  ...  A121  49  A143  A152   \n",
       "3  A11  42  A32  A42  7882  A61  A74  2  A93  A103  ...  A122  45  A143  A153   \n",
       "4  A11  24  A33  A40  4870  A61  A73  3  A93  A101  ...  A124  53  A143  A153   \n",
       "\n",
       "  16    17 18    19    20 Label  \n",
       "0  2  A173  1  A192  A201     1  \n",
       "1  1  A173  1  A191  A201     2  \n",
       "2  1  A172  2  A191  A201     1  \n",
       "3  1  A173  2  A191  A201     1  \n",
       "4  2  A173  2  A191  A201     2  \n",
       "\n",
       "[5 rows x 21 columns]"
      ]
     },
     "execution_count": 3,
     "metadata": {},
     "output_type": "execute_result"
    }
   ],
   "source": [
    "raw_data = pd.read_csv('german.data', sep = ' ', header = None) \n",
    "col = [x  for x in range(1,21)]\n",
    "col.append(\"Label\")\n",
    "raw_data.columns = col\n",
    "\n",
    "raw_data.head()"
   ]
  },
  {
   "cell_type": "code",
   "execution_count": 4,
   "id": "2740c70a",
   "metadata": {
    "scrolled": true
   },
   "outputs": [
    {
     "data": {
      "text/plain": [
       "(1000, 21)"
      ]
     },
     "execution_count": 4,
     "metadata": {},
     "output_type": "execute_result"
    }
   ],
   "source": [
    "# Visualising data shape\n",
    "raw_data.shape"
   ]
  },
  {
   "cell_type": "markdown",
   "id": "7ff3cd53",
   "metadata": {},
   "source": [
    "# Formatting and Data Cleaning"
   ]
  },
  {
   "cell_type": "markdown",
   "id": "f6079ee2",
   "metadata": {},
   "source": [
    "### Functions"
   ]
  },
  {
   "cell_type": "code",
   "execution_count": 5,
   "id": "287283cd",
   "metadata": {},
   "outputs": [],
   "source": [
    "# Main preprocessing function\n",
    "def formatting_data(raw_data, idx):\n",
    "    raw_data.dropna(inplace = True)\n",
    "\n",
    "    num_data = scaling(raw_data[idx['num']])\n",
    "    cat_data = encoding_cat(raw_data[idx['cat']])\n",
    "    hierarchy_data = encoding_hierarchy(raw_data[idx['hierarchy']])\n",
    "    binary_data = transforming_binary(raw_data[idx['binary']])\n",
    "    labels = raw_data['Label'].apply(lambda x: 0 if x == 2 else 1)\n",
    "    \n",
    "    out = pd.concat([num_data, cat_data, hierarchy_data, binary_data, labels], axis = 1)\n",
    "    \n",
    "    return out"
   ]
  },
  {
   "cell_type": "code",
   "execution_count": 6,
   "id": "327815c9",
   "metadata": {},
   "outputs": [],
   "source": [
    "# Encoding categorical data\n",
    "def encoding_cat(cat_data):\n",
    "    \n",
    "    col = cat_data.columns\n",
    "    new_col = []\n",
    "    uniques = [len(np.unique(cat_data.iloc[:,i])) for i in range(cat_data.shape[1])]\n",
    "    for i in range(len(col)):\n",
    "        for j in range(1, uniques[i] + 1):\n",
    "            new_col.append(col[i] + j/100)\n",
    "\n",
    "\n",
    "    ohe = OneHotEncoder()\n",
    "    mat = pd.DataFrame(ohe.fit_transform(cat_data).toarray(),\n",
    "                       columns = new_col)\n",
    "\n",
    "    return mat"
   ]
  },
  {
   "cell_type": "code",
   "execution_count": 7,
   "id": "ed342c2a",
   "metadata": {},
   "outputs": [],
   "source": [
    "# Scaling numerical data\n",
    "def scaling(num_data):\n",
    "    col = num_data.columns\n",
    "    scaler = StandardScaler()\n",
    "    out = pd.DataFrame(scaler.fit_transform(num_data))\n",
    "    out.columns = col\n",
    "    \n",
    "    return out"
   ]
  },
  {
   "cell_type": "code",
   "execution_count": 8,
   "id": "baa170d8",
   "metadata": {},
   "outputs": [],
   "source": [
    "# Encoding hierarchical data\n",
    "def encoding_hierarchy(hierarchy_data):\n",
    "    zeros = {1: \"A14\",\n",
    "             6: \"A65\",\n",
    "             7: \"A71\"}\n",
    "    out = pd.DataFrame([])\n",
    "    for i in idx['hierarchy']:\n",
    "        col = hierarchy_data[i].unique()\n",
    "        \n",
    "        coded = np.where(hierarchy_data[i] == zeros[i], 0, hierarchy_data[i])\n",
    "        \n",
    "        count = 0\n",
    "        for j in range(len(col)):\n",
    "            if col[j] != zeros[i]:\n",
    "                count += 1\n",
    "                coded = np.where(coded == col[j], count, coded)\n",
    "    \n",
    "        out[i] = coded\n",
    "        \n",
    "    return out"
   ]
  },
  {
   "cell_type": "code",
   "execution_count": 9,
   "id": "8b71ccbe",
   "metadata": {},
   "outputs": [],
   "source": [
    "# Encoding binary data\n",
    "def transforming_binary(binary_data):\n",
    "    col19 = binary_data[19].apply(lambda x: 0 if x == \"A191\" else 1)\n",
    "    col20 = binary_data[20].apply(lambda x: 0 if x == \"A202\" else 1)\n",
    "\n",
    "    out = pd.concat([col19, col20], axis = 1)\n",
    "\n",
    "    return out"
   ]
  },
  {
   "cell_type": "markdown",
   "id": "e24b8c46",
   "metadata": {},
   "source": [
    "### Executing preprocessing"
   ]
  },
  {
   "cell_type": "code",
   "execution_count": 10,
   "id": "0738f528",
   "metadata": {
    "scrolled": true
   },
   "outputs": [],
   "source": [
    "idx = { 'num' : [2, 5, 8, 11, 13, 16, 18],\n",
    "        'cat' : [3, 4, 9, 10, 12, 14, 15, 17],\n",
    "        'hierarchy' : [1, 6, 7],\n",
    "        'binary' : [19, 20]}\n",
    "\n",
    "formatted_data = formatting_data(raw_data, idx)"
   ]
  },
  {
   "cell_type": "markdown",
   "id": "d853d28f",
   "metadata": {},
   "source": [
    "# Train-Val / Test Split"
   ]
  },
  {
   "cell_type": "code",
   "execution_count": 11,
   "id": "856ad051",
   "metadata": {},
   "outputs": [],
   "source": [
    "train_val_data, test_data = train_test_split(formatted_data, test_size = 0.2, random_state = 0)"
   ]
  },
  {
   "cell_type": "markdown",
   "id": "2f37d793",
   "metadata": {},
   "source": [
    "# Analysis and Feature Selection"
   ]
  },
  {
   "cell_type": "markdown",
   "id": "fe55d50d",
   "metadata": {},
   "source": [
    "### Correlation matrix of categorical features"
   ]
  },
  {
   "cell_type": "code",
   "execution_count": 12,
   "id": "810dc61a",
   "metadata": {
    "scrolled": false
   },
   "outputs": [
    {
     "data": {
      "image/png": "[encoded data removed]",
      "text/plain": [
       "<Figure size 1440x1080 with 2 Axes>"
      ]
     },
     "metadata": {
      "needs_background": "light"
     },
     "output_type": "display_data"
    }
   ],
   "source": [
    "fig, ax = plt.subplots(figsize = [20, 15])\n",
    "corr_mat = sns.heatmap(train_val_data.drop(idx['num'], axis = 1).drop(idx['hierarchy'], axis = 1).corr(), cmap = \"PiYG\", vmin = -1, vmax = 1)"
   ]
  },
  {
   "cell_type": "markdown",
   "id": "e62cc93a",
   "metadata": {},
   "source": [
    "As can be seen, one-hot-encoding categorical features brought a problem of a high number of features. Therefore, it is convenient to reduce its amount to avoid the curse of dimensionality."
   ]
  },
  {
   "cell_type": "markdown",
   "id": "eea82e9d",
   "metadata": {},
   "source": [
    "### Feature Selection Function"
   ]
  },
  {
   "cell_type": "code",
   "execution_count": 13,
   "id": "5f26592c",
   "metadata": {
    "scrolled": true
   },
   "outputs": [],
   "source": [
    "# This function filters and organizes the categorical in order to reduce its amount.\n",
    "def feature_selection(data):\n",
    "    '''\n",
    "    3  =>  -1/0/1\n",
    "    4  =>  ereased\n",
    "    10 =>  binary\n",
    "    12 =>  -1/0/1\n",
    "    14 =>  binary\n",
    "    15 =>  binary/redundancy\n",
    "    17 =>  -1/0/1\n",
    "    19 =>  ereased\n",
    "    \n",
    "\n",
    "    \n",
    "    '''\n",
    "    out = data\n",
    "    \n",
    "    out[3] = np.zeros(out.shape[0])\n",
    "    out[3][out[3.02] == 1] = 1\n",
    "    out[3][out[3.03] == 1] = 1\n",
    "    out[3][out[3.04] == 1] = -1\n",
    "    out[3][out[3.05] == 1] = -1\n",
    "    \n",
    "    out[12] = np.zeros(out.shape[0])\n",
    "    out[12][out[12.01] == 1] = 1\n",
    "    out[12][out[12.04] == 1] = -1\n",
    "    \n",
    "    out[17] = np.zeros(out.shape[0])\n",
    "    out[17][out[17.01] == 1] = -1\n",
    "    out[17][out[17.03] == 1] = 1\n",
    "    out[17][out[17.04] == 1] = 1\n",
    "    out[10] = data[10.01].apply(lambda x: 0 if x == 1 else 1)\n",
    "    out[14] = data[14.03].apply(lambda x: 0 if x == 1 else 1)\n",
    "    out[10] = data[15.02]\n",
    "    out = data.drop([3.01, 3.02, 3.03, 3.04, 3.05, 4.01, 4.02, 4.03, 4.04, 4.05, \n",
    "                     4.06, 4.07, 4.08, 4.09, 4.1, 9.01, 9.02, 9.03, 9.04, 10.01, \n",
    "                     10.02, 10.03, 12.01, 12.02, 12.03, 12.04, 14.01, 14.02, 14.03, \n",
    "                     15.01, 15.02, 15.03, 17.01, 17.02, 17.03, 17.04, 19], axis = 1)\n",
    "\n",
    "    \n",
    "    out = out.apply(pd.to_numeric, errors='raise')\n",
    "    \n",
    "    return out    "
   ]
  },
  {
   "cell_type": "markdown",
   "id": "6b0a33ae",
   "metadata": {},
   "source": [
    "### Computing Feature Selection"
   ]
  },
  {
   "cell_type": "code",
   "execution_count": null,
   "id": "b1ed5b18",
   "metadata": {
    "scrolled": true
   },
   "outputs": [],
   "source": [
    "train_val_data = feature_selection(train_val_data)\n",
    "test_data = feature_selection(test_data)"
   ]
  },
  {
   "cell_type": "markdown",
   "id": "77134cf7",
   "metadata": {},
   "source": [
    "### Correlation matrix of categorical features used"
   ]
  },
  {
   "cell_type": "code",
   "execution_count": 15,
   "id": "cd3134f1",
   "metadata": {
    "scrolled": false
   },
   "outputs": [
    {
     "data": {
      "image/png": "[encoded data removed]",
      "text/plain": [
       "<Figure size 1440x1080 with 2 Axes>"
      ]
     },
     "metadata": {
      "needs_background": "light"
     },
     "output_type": "display_data"
    }
   ],
   "source": [
    "fig, ax = plt.subplots(figsize = [20, 15])\n",
    "corr_mat = sns.heatmap(train_val_data.drop(idx['num'], axis = 1).drop(idx['hierarchy'], axis = 1).corr(), cmap = \"PiYG\", vmin = -1, vmax = 1)"
   ]
  },
  {
   "cell_type": "markdown",
   "id": "bc3f3642",
   "metadata": {},
   "source": [
    "# Data Augmentation"
   ]
  },
  {
   "cell_type": "code",
   "execution_count": 16,
   "id": "a5c9e8d7",
   "metadata": {},
   "outputs": [],
   "source": [
    "x_train_val = train_val_data.drop('Label', axis = 1)\n",
    "y_train_val = train_val_data['Label']"
   ]
  },
  {
   "cell_type": "code",
   "execution_count": 17,
   "id": "77119f83",
   "metadata": {
    "scrolled": true
   },
   "outputs": [
    {
     "data": {
      "text/plain": [
       "<matplotlib.axes._subplots.AxesSubplot at 0x176d5c7b5b0>"
      ]
     },
     "execution_count": 17,
     "metadata": {},
     "output_type": "execute_result"
    },
    {
     "data": {
      "image/png": "[encoded data removed]",
      "text/plain": [
       "<Figure size 432x288 with 1 Axes>"
      ]
     },
     "metadata": {
      "needs_background": "light"
     },
     "output_type": "display_data"
    }
   ],
   "source": [
    "y_train_val.hist()"
   ]
  },
  {
   "cell_type": "markdown",
   "id": "3f84d131",
   "metadata": {},
   "source": [
    "As depicted above, this dataset is imbalanced. To avoid the consequences of dealing with such a set, a data augmentation methodology has been applied in the training set. For this case, SMOTE algorithm has been carried out of it."
   ]
  },
  {
   "cell_type": "code",
   "execution_count": 18,
   "id": "08302bb8",
   "metadata": {},
   "outputs": [],
   "source": [
    "def data_augmentation(x_train, y_train):\n",
    "    sm = SMOTE(sampling_strategy = 'not majority',\n",
    "               k_neighbors = 25,\n",
    "               random_state = 0,\n",
    "               n_jobs = -1)\n",
    "    x, y = sm.fit_resample(x_train, y_train)\n",
    "    \n",
    "    return x, y"
   ]
  },
  {
   "cell_type": "markdown",
   "id": "f0ac22ef",
   "metadata": {},
   "source": [
    "### Train / Validation split"
   ]
  },
  {
   "cell_type": "code",
   "execution_count": 19,
   "id": "f3baadf7",
   "metadata": {},
   "outputs": [],
   "source": [
    "x_train, x_val, y_train, y_val = train_test_split(x_train_val, y_train_val, test_size = 0.2, random_state = 0)"
   ]
  },
  {
   "cell_type": "markdown",
   "id": "ce53124e",
   "metadata": {},
   "source": [
    "### Computing the augmentation and depicting the balanced outcome"
   ]
  },
  {
   "cell_type": "code",
   "execution_count": 20,
   "id": "ea464225",
   "metadata": {
    "scrolled": false
   },
   "outputs": [
    {
     "data": {
      "text/plain": [
       "<matplotlib.axes._subplots.AxesSubplot at 0x176d6053490>"
      ]
     },
     "execution_count": 20,
     "metadata": {},
     "output_type": "execute_result"
    },
    {
     "data": {
      "image/png": "[encoded data removed]",
      "text/plain": [
       "<Figure size 432x288 with 1 Axes>"
      ]
     },
     "metadata": {
      "needs_background": "light"
     },
     "output_type": "display_data"
    }
   ],
   "source": [
    "x_train_new, y_train_new = data_augmentation(x_train, y_train)\n",
    "y_train_new.hist()"
   ]
  },
  {
   "cell_type": "markdown",
   "id": "a1c9fe9f",
   "metadata": {},
   "source": [
    "# Main Processing"
   ]
  },
  {
   "cell_type": "markdown",
   "id": "af2cc5c8",
   "metadata": {},
   "source": [
    "### Net topology"
   ]
  },
  {
   "cell_type": "code",
   "execution_count": 21,
   "id": "0f14b5cd",
   "metadata": {},
   "outputs": [],
   "source": [
    "def build_net(x, l2):\n",
    "    model = keras.Sequential([keras.Input(shape = x.shape[1]),\n",
    "                              layers.Dense(15, activation = 'relu', kernel_regularizer = keras.regularizers.L2(l2)),\n",
    "                              layers.Dense(1, activation = 'linear', kernel_regularizer = keras.regularizers.L2(l2))])\n",
    "    \n",
    "    return model"
   ]
  },
  {
   "cell_type": "markdown",
   "id": "324d47e1",
   "metadata": {},
   "source": [
    "To avoid numerical errors, this setup used the \"from_logits\" parameter as True. Thus, the following classes were defined to compute the precision, recall, and f1-score of the algorithm."
   ]
  },
  {
   "cell_type": "code",
   "execution_count": 22,
   "id": "3ba17dc4",
   "metadata": {},
   "outputs": [],
   "source": [
    "import tensorflow.keras.metrics as tfm\n",
    "\n",
    "class Precision(tfm.Precision):\n",
    "    def __init__(self, from_logits=False, *args, **kwargs):\n",
    "        super().__init__(*args, **kwargs)\n",
    "        self._from_logits = from_logits\n",
    "\n",
    "    def update_state(self, y_true, y_pred, sample_weight=None):\n",
    "        if self._from_logits:\n",
    "            super(Precision, self).update_state(y_true, tf.nn.sigmoid(y_pred), sample_weight)\n",
    "        else:\n",
    "            super(Precision, self).update_state(y_true, y_pred, sample_weight)\n",
    "\n",
    "\n",
    "class Recall(tfm.Recall):\n",
    "    def __init__(self, from_logits=False, *args, **kwargs):\n",
    "        super().__init__(*args, **kwargs)\n",
    "        self._from_logits = from_logits\n",
    "\n",
    "    def update_state(self, y_true, y_pred, sample_weight=None):\n",
    "        if self._from_logits:\n",
    "            super(Recall, self).update_state(y_true, tf.nn.sigmoid(y_pred), sample_weight)\n",
    "        else:\n",
    "            super(Recall, self).update_state(y_true, y_pred, sample_weight)\n",
    "\n",
    "class F1Score(tf.keras.metrics.Metric):\n",
    "    def __init__(self, name=\"f1\", from_logits=False, **kwargs):\n",
    "        super(F1Score, self).__init__(name=name, **kwargs)\n",
    "        self.precision = Precision(from_logits)\n",
    "        self.recall = Recall(from_logits)\n",
    "\n",
    "    def update_state(self, y_true, y_pred, sample_weight=None):\n",
    "        self.precision.update_state(y_true, y_pred, sample_weight)\n",
    "        self.recall.update_state(y_true, y_pred, sample_weight)\n",
    "\n",
    "    def result(self):\n",
    "        p = self.precision.result()\n",
    "        r = self.recall.result()\n",
    "        return (2 * p * r) / (p + r + tf.keras.backend.epsilon())\n",
    "\n",
    "    def reset_states(self):\n",
    "        self.precision.reset_states()\n",
    "        self.recall.reset_states()"
   ]
  },
  {
   "cell_type": "markdown",
   "id": "9d8f401a",
   "metadata": {},
   "source": [
    "### Train function"
   ]
  },
  {
   "cell_type": "code",
   "execution_count": 23,
   "id": "80b0809b",
   "metadata": {},
   "outputs": [],
   "source": [
    "def train(x, y, l2):\n",
    "    model = build_net(x, l2)\n",
    "    model.compile(optimizer = keras.optimizers.Adam(learning_rate = 0.01),\n",
    "                  loss = keras.losses.BinaryCrossentropy(from_logits = True),\n",
    "                  metrics = [\"accuracy\", Precision(from_logits = True, name = 'precision'),\n",
    "                             Recall(from_logits = True, name = 'recall'), F1Score(from_logits = True)])\n",
    "    \n",
    "    history = model.fit(x, y, epochs = 50, verbose = False)\n",
    "    \n",
    "    return model, history"
   ]
  },
  {
   "cell_type": "markdown",
   "id": "5152c100",
   "metadata": {},
   "source": [
    "### Test Function"
   ]
  },
  {
   "cell_type": "code",
   "execution_count": 24,
   "id": "fa86d030",
   "metadata": {},
   "outputs": [],
   "source": [
    "def test(model, x, y):\n",
    "    y_pred = model.predict(x, use_multiprocessing = True)\n",
    "    y_pred = tf.nn.sigmoid(y_pred)\n",
    "    \n",
    "    y_pred = tf.map_fn(lambda x: 0 if x < 0.5 else 1, y_pred)\n",
    "  \n",
    "    acc = accuracy_score(y, y_pred)\n",
    "    precision, recall, f1_score, _ = prfs(y, y_pred, average='binary')\n",
    "    \n",
    "    return acc, precision, recall, f1_score, y_pred"
   ]
  },
  {
   "cell_type": "markdown",
   "id": "e7f079ac",
   "metadata": {},
   "source": [
    "## Training and Validation"
   ]
  },
  {
   "cell_type": "markdown",
   "id": "f2bef0ab",
   "metadata": {},
   "source": [
    "#### Training without regularization"
   ]
  },
  {
   "cell_type": "code",
   "execution_count": 25,
   "id": "2516a464",
   "metadata": {
    "scrolled": true
   },
   "outputs": [],
   "source": [
    "model, history = train(x_train_new, y_train_new, 0)"
   ]
  },
  {
   "cell_type": "markdown",
   "id": "95b5a720",
   "metadata": {},
   "source": [
    "#### Model size"
   ]
  },
  {
   "cell_type": "code",
   "execution_count": 26,
   "id": "fbc7157c",
   "metadata": {
    "scrolled": true
   },
   "outputs": [
    {
     "name": "stdout",
     "output_type": "stream",
     "text": [
      "Model: \"sequential\"\n",
      "_________________________________________________________________\n",
      "Layer (type)                 Output Shape              Param #   \n",
      "=================================================================\n",
      "dense (Dense)                (None, 15)                255       \n",
      "_________________________________________________________________\n",
      "dense_1 (Dense)              (None, 1)                 16        \n",
      "=================================================================\n",
      "Total params: 271\n",
      "Trainable params: 271\n",
      "Non-trainable params: 0\n",
      "_________________________________________________________________\n"
     ]
    }
   ],
   "source": [
    "model.summary()"
   ]
  },
  {
   "cell_type": "markdown",
   "id": "ad5cd6a5",
   "metadata": {},
   "source": [
    "#### Performance over epochs"
   ]
  },
  {
   "cell_type": "code",
   "execution_count": 27,
   "id": "77e200c2",
   "metadata": {
    "scrolled": true
   },
   "outputs": [
    {
     "data": {
      "text/plain": [
       "(0, 1)"
      ]
     },
     "execution_count": 27,
     "metadata": {},
     "output_type": "execute_result"
    },
    {
     "data": {
      "image/png": "[encoded data removed]",
      "text/plain": [
       "<Figure size 432x288 with 1 Axes>"
      ]
     },
     "metadata": {
      "needs_background": "light"
     },
     "output_type": "display_data"
    }
   ],
   "source": [
    "plt.plot(history.history['accuracy'])\n",
    "plt.plot(history.history['precision'])\n",
    "plt.plot(history.history['recall'])\n",
    "plt.plot(history.history['f1'])\n",
    "plt.legend([\"Acc\", \"Prec\", \"Rec\", \"F1\"])\n",
    "plt.xlabel(\"Epochs\")\n",
    "plt.ylabel(\"Score\")\n",
    "plt.ylim([0,1])"
   ]
  },
  {
   "cell_type": "markdown",
   "id": "8126bd5c",
   "metadata": {},
   "source": [
    "#### Training Score"
   ]
  },
  {
   "cell_type": "code",
   "execution_count": 28,
   "id": "92015cc0",
   "metadata": {
    "scrolled": true
   },
   "outputs": [
    {
     "name": "stdout",
     "output_type": "stream",
     "text": [
      "Acurracy:\t84.01 % \n",
      "Precision:\t86.37 % \n",
      "Recall:\t\t84.20 % \n",
      "F1-Score:\t85.26 %\n"
     ]
    }
   ],
   "source": [
    "train_scores = [np.mean(history.history['accuracy'][-5:-1]), np.mean(history.history['precision'][-5:-1]), np.mean(history.history['recall'][-5:-1]), np.mean(history.history['f1'][-5:-1])]\n",
    "print(\"Acurracy:\\t{:.2f} % \\nPrecision:\\t{:.2f} % \\nRecall:\\t\\t{:.2f} % \\nF1-Score:\\t{:.2f} %\".format(100 * train_scores[0], 100 * train_scores[1], 100 * train_scores[2], 100 * train_scores[3]))"
   ]
  },
  {
   "cell_type": "markdown",
   "id": "6a674c14",
   "metadata": {},
   "source": [
    "#### Validation Score"
   ]
  },
  {
   "cell_type": "code",
   "execution_count": 29,
   "id": "89aab852",
   "metadata": {},
   "outputs": [
    {
     "name": "stdout",
     "output_type": "stream",
     "text": [
      "Acurracy:\t66.88 % \n",
      "Precision:\t76.47 % \n",
      "Recall:\t\t72.90 % \n",
      "F1-Score:\t74.64 %\n"
     ]
    },
    {
     "data": {
      "text/plain": [
       "array([[29, 24],\n",
       "       [29, 78]], dtype=int64)"
      ]
     },
     "execution_count": 29,
     "metadata": {},
     "output_type": "execute_result"
    }
   ],
   "source": [
    "val_scores = test(model, x_val, y_val)\n",
    "print(\"Acurracy:\\t{:.2f} % \\nPrecision:\\t{:.2f} % \\nRecall:\\t\\t{:.2f} % \\nF1-Score:\\t{:.2f} %\".format(100 * val_scores[0], 100 * val_scores[1], 100 * val_scores[2], 100 * val_scores[3]))\n",
    "conf(y_val, val_scores[4])"
   ]
  },
  {
   "cell_type": "markdown",
   "id": "5414518d",
   "metadata": {},
   "source": [
    "## Regularization"
   ]
  },
  {
   "cell_type": "code",
   "execution_count": 30,
   "id": "b763932f",
   "metadata": {
    "scrolled": false
   },
   "outputs": [
    {
     "data": {
      "text/plain": [
       "<matplotlib.legend.Legend at 0x176db7159d0>"
      ]
     },
     "execution_count": 30,
     "metadata": {},
     "output_type": "execute_result"
    },
    {
     "data": {
      "image/png": "[encoded data removed]",
      "text/plain": [
       "<Figure size 432x288 with 1 Axes>"
      ]
     },
     "metadata": {
      "needs_background": "light"
     },
     "output_type": "display_data"
    }
   ],
   "source": [
    "models = []\n",
    "histories = []\n",
    "scores = []\n",
    "pred = []\n",
    "l2 = np.array(range(1, 40, 1))/1000\n",
    "for i in range(len(l2)):\n",
    "    model_new, history_new = train(x_train_new, y_train_new, l2[i])\n",
    "    models.append(model_new)\n",
    "    histories.append(history_new)\n",
    "    \n",
    "    acc, prec, rec, f1, y_pred = test(model_new, x_val, y_val)\n",
    "    scores.append([acc, prec, rec, f1])\n",
    "    pred.append(y_pred)\n",
    "scores\n",
    "plt.plot(l2, scores)\n",
    "plt.legend([\"Acc\", \"Prec\", \"Rec\", \"F1\"])"
   ]
  },
  {
   "cell_type": "markdown",
   "id": "fc12bcec",
   "metadata": {},
   "source": [
    "#### Using L2 Regularization with lambda = 0.016\n",
    "\n"
   ]
  },
  {
   "cell_type": "code",
   "execution_count": 31,
   "id": "d9df65a0",
   "metadata": {},
   "outputs": [
    {
     "name": "stdout",
     "output_type": "stream",
     "text": [
      "Acurracy:\t73.75 % \n",
      "Precision:\t78.76 % \n",
      "Recall:\t\t83.18 % \n",
      "F1-Score:\t80.91 %\n"
     ]
    },
    {
     "data": {
      "text/plain": [
       "array([[29, 24],\n",
       "       [18, 89]], dtype=int64)"
      ]
     },
     "execution_count": 31,
     "metadata": {},
     "output_type": "execute_result"
    }
   ],
   "source": [
    "models = []\n",
    "histories = []\n",
    "val_scores = []\n",
    "pred = []\n",
    "l2 = 0.016\n",
    "model_new, history_new = train(x_train_new, y_train_new, l2)\n",
    "models.append(model_new)\n",
    "histories.append(history_new)\n",
    "\n",
    "val_scores = test(model_new, x_val, y_val)\n",
    "\n",
    "print(\"Acurracy:\\t{:.2f} % \\nPrecision:\\t{:.2f} % \\nRecall:\\t\\t{:.2f} % \\nF1-Score:\\t{:.2f} %\".format(100 * val_scores[0], 100 * val_scores[1], 100 * val_scores[2], 100 * val_scores[3]))\n",
    "conf(y_val, val_scores[4])\n"
   ]
  },
  {
   "cell_type": "markdown",
   "id": "30d9f1e6",
   "metadata": {},
   "source": [
    "# Test"
   ]
  },
  {
   "cell_type": "code",
   "execution_count": 32,
   "id": "2ab97260",
   "metadata": {},
   "outputs": [
    {
     "name": "stdout",
     "output_type": "stream",
     "text": [
      "Acurracy:\t69.50 % \n",
      "Precision:\t80.00 % \n",
      "Recall:\t\t76.06 % \n",
      "F1-Score:\t77.98 %\n"
     ]
    },
    {
     "data": {
      "text/plain": [
       "array([[ 31,  27],\n",
       "       [ 34, 108]], dtype=int64)"
      ]
     },
     "execution_count": 32,
     "metadata": {},
     "output_type": "execute_result"
    }
   ],
   "source": [
    "x_test = test_data.drop(\"Label\", axis = 1)\n",
    "y_test = test_data[\"Label\"]\n",
    "\n",
    "test_scores = test(model_new, x_test, y_test)\n",
    "print(\"Acurracy:\\t{:.2f} % \\nPrecision:\\t{:.2f} % \\nRecall:\\t\\t{:.2f} % \\nF1-Score:\\t{:.2f} %\".format(100 * test_scores[0], 100 * test_scores[1], 100 * test_scores[2], 100 * test_scores[3]))\n",
    "conf(y_test, test_scores[4])"
   ]
  },
  {
   "cell_type": "code",
   "execution_count": null,
   "id": "0c95305a",
   "metadata": {},
   "outputs": [],
   "source": []
  },
  {
   "cell_type": "code",
   "execution_count": null,
   "id": "49412303",
   "metadata": {},
   "outputs": [],
   "source": []
  },
  {
   "cell_type": "code",
   "execution_count": null,
   "id": "d9f76839",
   "metadata": {},
   "outputs": [],
   "source": []
  }
 ],
 "metadata": {
  "kernelspec": {
   "display_name": "Python 3",
   "language": "python",
   "name": "python3"
  },
  "language_info": {
   "codemirror_mode": {
    "name": "ipython",
    "version": 3
   },
   "file_extension": ".py",
   "mimetype": "text/x-python",
   "name": "python",
   "nbconvert_exporter": "python",
   "pygments_lexer": "ipython3",
   "version": "3.8.8"
  }
 },
 "nbformat": 4,
 "nbformat_minor": 5
}
